{
 "cells": [
  {
   "cell_type": "code",
   "execution_count": 34,
   "metadata": {},
   "outputs": [
    {
     "name": "stdout",
     "output_type": "stream",
     "text": [
      "[]\n",
      "[2]\n",
      "[2, 3]\n",
      "[2, 3, 2, 2, 2, 2]\n",
      "[2, 3, 2, 2, 2, 2, 2, 2, 5, 5]\n",
      "[2, 3, 2, 2, 2, 2, 2, 2, 5, 5, 97]\n"
     ]
    }
   ],
   "source": [
    "def find_prime_factors(n, prime_factors=[]):\n",
    "    i = 2\n",
    "    while i*i <= n:\n",
    "        if n% i == 0:\n",
    "            prime_factors.append(i)\n",
    "            n//=i\n",
    "        else:\n",
    "            i +=1\n",
    "    if n> 1:\n",
    "        prime_factors.append(n)\n",
    "\n",
    "    return prime_factors\n",
    "\n",
    "\n",
    "print(find_prime_factors(1))   \n",
    "print(find_prime_factors(2))   \n",
    "print(find_prime_factors(3))   \n",
    "print(find_prime_factors(16))   \n",
    "print(find_prime_factors(100))  \n",
    "print(find_prime_factors(97))  \n"
   ]
  },
  {
   "cell_type": "markdown",
   "metadata": {},
   "source": [
    "because of prime_factors = []\n",
    "returns the factors of the previous iteration. 97s only factors are (97*1)"
   ]
  },
  {
   "cell_type": "code",
   "execution_count": 35,
   "metadata": {},
   "outputs": [
    {
     "name": "stdout",
     "output_type": "stream",
     "text": [
      "[]\n",
      "[2]\n",
      "[3]\n",
      "[2, 2, 2, 2]\n",
      "[2, 2, 5, 5]\n",
      "[97]\n"
     ]
    }
   ],
   "source": [
    "def fixed_find_prime_factors(n):\n",
    "    fixed_prime_factors = []\n",
    "    \n",
    "    # for 2\n",
    "    while n % 2 == 0:\n",
    "        fixed_prime_factors.append(2)\n",
    "        n //= 2\n",
    "\n",
    "    # checking for odd factors by 3\n",
    "    i = 3\n",
    "    while i * i <= n:\n",
    "        while n % i == 0:\n",
    "            fixed_prime_factors.append(i)\n",
    "            n //= i\n",
    "        i += 2  # Increasing by 2 to skip even numbers\n",
    "\n",
    "    # If n is still greater than 1, it must be prime\n",
    "    if n > 1:\n",
    "        fixed_prime_factors.append(n)\n",
    "\n",
    "    return fixed_prime_factors\n",
    "\n",
    "print(fixed_find_prime_factors(1))    \n",
    "print(fixed_find_prime_factors(2))    \n",
    "print(fixed_find_prime_factors(3))    \n",
    "print(fixed_find_prime_factors(16))   \n",
    "print(fixed_find_prime_factors(100)) \n",
    "print(fixed_find_prime_factors(97))  "
   ]
  },
  {
   "cell_type": "code",
   "execution_count": 5,
   "metadata": {},
   "outputs": [],
   "source": [
    "#bank class\n",
    "\n",
    "class bankaccount:\n",
    "    def __init__(self, account_holder):\n",
    "        self.account_holder = account_holder\n",
    "        self.balance = 0\n",
    "\n",
    "    def depost(self, amount):\n",
    "        if amount <= self.balance:\n",
    "            self.balance -= amount\n",
    "        \n",
    "        else:\n",
    "            print(\"insufficient funds\")\n",
    "    def account_info(self):\n",
    "        return f\"account holder: {self.account_holder}, Balance ${self.balance:.2f}\""
   ]
  },
  {
   "cell_type": "markdown",
   "metadata": {},
   "source": [
    "code above is taken from the mandatory assignment\n"
   ]
  },
  {
   "cell_type": "code",
   "execution_count": 32,
   "metadata": {},
   "outputs": [],
   "source": [
    "class Bank_Account:\n",
    "    def __init__(self, account_holder):\n",
    "        self.account_holder = account_holder\n",
    "        self.balance = 0.0\n",
    "\n",
    "    def deposit(self, amount):\n",
    "        if amount > 0:\n",
    "            self.balance += amount\n",
    "            print(f\"Deposited ${amount:.2f}\")\n",
    "        else:\n",
    "            print(\"Deposit amount must be positive.\")\n",
    "\n",
    "    def withdraw(self, amount):\n",
    "        if amount <= self.balance:\n",
    "            self.balance -= amount\n",
    "            print(f\"Withdrew ${amount:.2f}\")\n",
    "        else:\n",
    "            print(\"Insufficient funds.\")\n",
    "\n",
    "    def account_info(self):\n",
    "        return f\"Account holder: {self.account_holder}, Balance: ${self.balance:.2f}\"\n",
    "\n",
    "\n",
    "class SavingsAccount(Bank_Account):\n",
    "    def __init__(self, account_holder, interest_rate=0.02):\n",
    "        self.account_holder = account_holder\n",
    "        self.balance = 0.0  \n",
    "        self.interest_rate = interest_rate\n",
    "\n",
    "    def apply_interest(self):\n",
    "        self.balance *= (1 + self.interest_rate)\n",
    "        print(f\"Interest applied at rate: {self.interest_rate * 100}%.\")\n",
    "\n",
    "class CheckingAccount(Bank_Account):\n",
    "    def __init__(self, account_holder, transaction_fee=1.0):\n",
    "        self.account_holder = account_holder\n",
    "        self.balance = 0.0\n",
    "        self.transaction_fee = transaction_fee\n",
    "\n",
    "    def withdraw(self, amount):\n",
    "        total_withdrawal = amount + self.transaction_fee\n",
    "        if total_withdrawal <= self.balance:\n",
    "            self.balance -= total_withdrawal\n",
    "            print(f\"Withdrew ${amount:.2f} with a transaction fee of ${self.transaction_fee:.2f}\")\n",
    "        else:\n",
    "            print(\"Insufficient funds for this withdrawal including the transaction fee.\")\n",
    "\n",
    "\n"
   ]
  },
  {
   "cell_type": "code",
   "execution_count": 38,
   "metadata": {},
   "outputs": [
    {
     "name": "stdout",
     "output_type": "stream",
     "text": [
      "Account holder: Cookie, Balance: $0.00\n",
      "Deposited $100.00\n",
      "Account holder: Cookie, Balance: $100.00\n",
      "Withdrew $50.00\n",
      "Account holder: Cookie, Balance: $50.00\n",
      "Insufficient funds.\n",
      "Account holder: Lover, Balance: $0.00\n",
      "Deposited $200.00\n",
      "Interest applied at rate: 5.0%.\n",
      "Account holder: Lover, Balance: $210.00\n",
      "Account holder: abcd, Balance: $0.00\n",
      "Deposited $100.00\n",
      "Withdrew $50.00 with a transaction fee of $2.00\n",
      "Account holder: abcd, Balance: $48.00\n",
      "Insufficient funds for this withdrawal including the transaction fee.\n"
     ]
    }
   ],
   "source": [
    "def test_bank_accounts():\n",
    "    basic_account = Bank_Account(\"Cookie\")\n",
    "    print(basic_account.account_info())  \n",
    "    basic_account.deposit(100)\n",
    "    print(basic_account.account_info())  \n",
    "    basic_account.withdraw(50)\n",
    "    print(basic_account.account_info())  \n",
    "    basic_account.withdraw(60)  \n",
    "\n",
    "    savings_acc = SavingsAccount(\"Lover\", interest_rate=0.05)\n",
    "    print(savings_acc.account_info())  \n",
    "    savings_acc.deposit(200)\n",
    "    savings_acc.apply_interest()\n",
    "    print(savings_acc.account_info())  \n",
    "    \n",
    "    checking_acc = CheckingAccount(\"abcd\", transaction_fee=2)\n",
    "    print(checking_acc.account_info())  \n",
    "    checking_acc.deposit(100)\n",
    "    checking_acc.withdraw(50)\n",
    "    print(checking_acc.account_info())      \n",
    "    checking_acc.withdraw(50)  \n",
    "\n",
    "test_bank_accounts()\n",
    "\n"
   ]
  },
  {
   "cell_type": "code",
   "execution_count": null,
   "metadata": {},
   "outputs": [],
   "source": []
  }
 ],
 "metadata": {
  "kernelspec": {
   "display_name": "main",
   "language": "python",
   "name": "python3"
  },
  "language_info": {
   "codemirror_mode": {
    "name": "ipython",
    "version": 3
   },
   "file_extension": ".py",
   "mimetype": "text/x-python",
   "name": "python",
   "nbconvert_exporter": "python",
   "pygments_lexer": "ipython3",
   "version": "3.10.14"
  }
 },
 "nbformat": 4,
 "nbformat_minor": 2
}
